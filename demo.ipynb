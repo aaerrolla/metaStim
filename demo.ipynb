{
 "cells": [
  {
   "cell_type": "markdown",
   "metadata": {},
   "source": [
    "#### 1. Import metastim"
   ]
  },
  {
   "cell_type": "code",
   "execution_count": null,
   "metadata": {},
   "outputs": [],
   "source": [
    "from metastim import field_ann, axon_ann\n",
    "from metastim.utils import MetaStimUtil\n",
    "from metastim import visualization as vis\n",
    "import numpy as np"
   ]
  },
  {
   "cell_type": "markdown",
   "metadata": {},
   "source": [
    "#### 2. Inputs"
   ]
  },
  {
   "cell_type": "code",
   "execution_count": null,
   "metadata": {},
   "outputs": [],
   "source": [
    "electrode_list = [1, 0, 0, 0, 1, 0, 0, 0]\n",
    "\n",
    "num_axons = 10\n",
    "axon_diameter = 6\n",
    "min_distance = 1\n",
    "max_distance = 5\n",
    "lead_id  = '6172'\n",
    "pulse_width = 90\n",
    "stimulation_amp = 3\n",
    "\n",
    "\n",
    "lead_radius = MetaStimUtil.get_lead_radius(lead_id, electrode_list)\n",
    "\n",
    "inl = 100 * axon_diameter / 1e3 # distance between nodes on an axon\n",
    "z_base = np.arange(-5, 16, inl)\n",
    "num_axon_nodes = z_base.shape[0]\n",
    "\n",
    "\n",
    "\n",
    "x_axon = np.repeat(np.linspace(min_distance, max_distance, num=num_axons), num_axon_nodes).reshape(num_axon_nodes, num_axons, order='F') + lead_radius\n",
    "y_axon = np.zeros(x_axon.shape)\n",
    "z_axon = np.repeat(z_base, num_axons).reshape(num_axon_nodes, num_axons)\n",
    "\n"
   ]
  },
  {
   "cell_type": "markdown",
   "metadata": {},
   "source": [
    "#### 2. Inputs"
   ]
  },
  {
   "cell_type": "code",
   "execution_count": null,
   "metadata": {},
   "outputs": [],
   "source": [
    "lead_id = '6172' \n",
    "electrode_list = [1, 0, 0, 0, 0, -1, 0, 0]\n",
    "stimulation_amp = 3 # [V]\n",
    "pulse_width = 90 #[us]\n",
    "num_axons = 10\n",
    "min_distance = 1\n",
    "max_distance = 5\n",
    "axon_diameter = 6 # [um]"
   ]
  },
  {
   "cell_type": "markdown",
   "metadata": {},
   "source": [
    "#### 3. Create field_ann_model , axon_ann_model by passing all required inputs"
   ]
  },
  {
   "cell_type": "code",
   "execution_count": null,
   "metadata": {},
   "outputs": [],
   "source": [
    "field_ann_model = field_ann.FieldANN(electrode_list)\n",
    "phi_axon = field_ann_model.field_ann(x_axon, y_axon, z_axon)\n",
    "\n",
    "axon_ann_model = axon_ann.AxonANN(electrode_list, pulse_width, stimulation_amp, num_axons, axon_diameter)\n",
    "axon_act = axon_ann_model.axon_ann(x_axon, y_axon, z_axon, lead_radius)"
   ]
  },
  {
   "cell_type": "markdown",
   "metadata": {},
   "source": [
    "#### 4. Create instance of visualization for plot"
   ]
  },
  {
   "cell_type": "code",
   "execution_count": null,
   "metadata": {},
   "outputs": [],
   "source": [
    "visual_demo1 = vis.Visualization(lead_id, stimulation_amp, num_axons, x_axon, z_axon, phi_axon, axon_act)\n",
    "visual_demo1.visualize()"
   ]
  },
  {
   "cell_type": "code",
   "execution_count": null,
   "metadata": {},
   "outputs": [],
   "source": [
    "visual_demo1.visualize(electrode_list)"
   ]
  }
 ],
 "metadata": {
  "kernelspec": {
   "display_name": "venv",
   "language": "python",
   "name": "python3"
  },
  "language_info": {
   "codemirror_mode": {
    "name": "ipython",
    "version": 3
   },
   "file_extension": ".py",
   "mimetype": "text/x-python",
   "name": "python",
   "nbconvert_exporter": "python",
   "pygments_lexer": "ipython3",
   "version": "3.11.2"
  }
 },
 "nbformat": 4,
 "nbformat_minor": 2
}

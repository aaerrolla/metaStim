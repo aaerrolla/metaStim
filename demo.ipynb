{
 "cells": [
  {
   "cell_type": "markdown",
   "metadata": {},
   "source": [
    "#### 1. Import metastim"
   ]
  },
  {
   "cell_type": "code",
   "execution_count": 1,
   "metadata": {},
   "outputs": [
    {
     "name": "stderr",
     "output_type": "stream",
     "text": [
      "2024-05-29 16:26:54.725816: I external/local_tsl/tsl/cuda/cudart_stub.cc:31] Could not find cuda drivers on your machine, GPU will not be used.\n",
      "2024-05-29 16:26:54.765830: E external/local_xla/xla/stream_executor/cuda/cuda_dnn.cc:9261] Unable to register cuDNN factory: Attempting to register factory for plugin cuDNN when one has already been registered\n",
      "2024-05-29 16:26:54.765857: E external/local_xla/xla/stream_executor/cuda/cuda_fft.cc:607] Unable to register cuFFT factory: Attempting to register factory for plugin cuFFT when one has already been registered\n",
      "2024-05-29 16:26:54.766922: E external/local_xla/xla/stream_executor/cuda/cuda_blas.cc:1515] Unable to register cuBLAS factory: Attempting to register factory for plugin cuBLAS when one has already been registered\n",
      "2024-05-29 16:26:54.773218: I external/local_tsl/tsl/cuda/cudart_stub.cc:31] Could not find cuda drivers on your machine, GPU will not be used.\n",
      "2024-05-29 16:26:54.773880: I tensorflow/core/platform/cpu_feature_guard.cc:182] This TensorFlow binary is optimized to use available CPU instructions in performance-critical operations.\n",
      "To enable the following instructions: AVX2 FMA, in other operations, rebuild TensorFlow with the appropriate compiler flags.\n",
      "2024-05-29 16:26:55.699963: W tensorflow/compiler/tf2tensorrt/utils/py_utils.cc:38] TF-TRT Warning: Could not find TensorRT\n"
     ]
    }
   ],
   "source": [
    "from metastim import field_ann, axon_ann\n",
    "from metastim.utils import MetaStimUtil\n",
    "from metastim import visualization as vis\n",
    "import numpy as np"
   ]
  },
  {
   "cell_type": "markdown",
   "metadata": {},
   "source": [
    "#### 2. Inputs"
   ]
  },
  {
   "cell_type": "code",
   "execution_count": 2,
   "metadata": {},
   "outputs": [
    {
     "ename": "AttributeError",
     "evalue": "type object 'MetaStimUtil' has no attribute 'get_lead_radius'",
     "output_type": "error",
     "traceback": [
      "\u001b[0;31m---------------------------------------------------------------------------\u001b[0m",
      "\u001b[0;31mAttributeError\u001b[0m                            Traceback (most recent call last)",
      "Cell \u001b[0;32mIn[2], line 12\u001b[0m\n\u001b[1;32m      8\u001b[0m pulse_width \u001b[38;5;241m=\u001b[39m \u001b[38;5;241m90\u001b[39m\n\u001b[1;32m      9\u001b[0m stimulation_amp \u001b[38;5;241m=\u001b[39m \u001b[38;5;241m3\u001b[39m\n\u001b[0;32m---> 12\u001b[0m lead_radius \u001b[38;5;241m=\u001b[39m \u001b[43mMetaStimUtil\u001b[49m\u001b[38;5;241;43m.\u001b[39;49m\u001b[43mget_lead_radius\u001b[49m(lead_id, electrode_list)\n\u001b[1;32m     14\u001b[0m inl \u001b[38;5;241m=\u001b[39m \u001b[38;5;241m100\u001b[39m \u001b[38;5;241m*\u001b[39m axon_diameter \u001b[38;5;241m/\u001b[39m \u001b[38;5;241m1e3\u001b[39m \u001b[38;5;66;03m# distance between nodes on an axon\u001b[39;00m\n\u001b[1;32m     15\u001b[0m z_base \u001b[38;5;241m=\u001b[39m np\u001b[38;5;241m.\u001b[39marange(\u001b[38;5;241m-\u001b[39m\u001b[38;5;241m5\u001b[39m, \u001b[38;5;241m16\u001b[39m, inl)\n",
      "\u001b[0;31mAttributeError\u001b[0m: type object 'MetaStimUtil' has no attribute 'get_lead_radius'"
     ]
    }
   ],
   "source": [
    "electrode_list = [1, 0, 0, 0, 1, 0, 0, 0]\n",
    "\n",
    "num_axons = 10\n",
    "axon_diameter = 6\n",
    "min_distance = 1\n",
    "max_distance = 5\n",
    "lead_id  = '6172'\n",
    "pulse_width = 90\n",
    "stimulation_amp = 3\n",
    "\n",
    "\n",
    "lead_radius = MetaStimUtil.get_lead_radius(lead_id, electrode_list)\n",
    "\n",
    "inl = 100 * axon_diameter / 1e3 # distance between nodes on an axon\n",
    "z_base = np.arange(-5, 16, inl)\n",
    "num_axon_nodes = z_base.shape[0]\n",
    "\n",
    "\n",
    "\n",
    "x_axon = np.repeat(np.linspace(min_distance, max_distance, num=num_axons), num_axon_nodes).reshape(num_axon_nodes, num_axons, order='F') + lead_radius\n",
    "y_axon = np.zeros(x_axon.shape)\n",
    "z_axon = np.repeat(z_base, num_axons).reshape(num_axon_nodes, num_axons)\n",
    "\n"
   ]
  },
  {
   "cell_type": "markdown",
   "metadata": {},
   "source": [
    "#### 2. Inputs"
   ]
  },
  {
   "cell_type": "code",
   "execution_count": 3,
   "metadata": {},
   "outputs": [],
   "source": [
    "lead_id = '6172' \n",
    "electrode_list = [1, 0, 0, 0, 0, -1, 0, 0]\n",
    "stimulation_amp = 3 # [V]\n",
    "pulse_width = 90 #[us]\n",
    "num_axons = 10\n",
    "min_distance = 1\n",
    "max_distance = 5\n",
    "axon_diameter = 6 # [um]"
   ]
  },
  {
   "cell_type": "markdown",
   "metadata": {},
   "source": [
    "#### 3. Create field_ann_model , axon_ann_model by passing all required inputs"
   ]
  },
  {
   "cell_type": "code",
   "execution_count": 3,
   "metadata": {},
   "outputs": [
    {
     "ename": "AttributeError",
     "evalue": "module 'metastim.field_ann' has no attribute 'FieldANN'",
     "output_type": "error",
     "traceback": [
      "\u001b[0;31m---------------------------------------------------------------------------\u001b[0m",
      "\u001b[0;31mAttributeError\u001b[0m                            Traceback (most recent call last)",
      "Cell \u001b[0;32mIn[3], line 1\u001b[0m\n\u001b[0;32m----> 1\u001b[0m field_ann_model \u001b[38;5;241m=\u001b[39m \u001b[43mfield_ann\u001b[49m\u001b[38;5;241;43m.\u001b[39;49m\u001b[43mFieldANN\u001b[49m(electrode_list)\n\u001b[1;32m      2\u001b[0m phi_axon \u001b[38;5;241m=\u001b[39m field_ann_model\u001b[38;5;241m.\u001b[39mfield_ann(x_axon, y_axon, z_axon)\n\u001b[1;32m      4\u001b[0m axon_ann_model \u001b[38;5;241m=\u001b[39m axon_ann\u001b[38;5;241m.\u001b[39mAxonANN(electrode_list, pulse_width, stimulation_amp, num_axons, axon_diameter)\n",
      "\u001b[0;31mAttributeError\u001b[0m: module 'metastim.field_ann' has no attribute 'FieldANN'"
     ]
    }
   ],
   "source": [
    "field_ann_model = field_ann.FieldANN(electrode_list)\n",
    "phi_axon = field_ann_model.field_ann(x_axon, y_axon, z_axon)\n",
    "\n",
    "axon_ann_model = axon_ann.AxonANN(electrode_list, pulse_width, stimulation_amp, num_axons, axon_diameter)\n",
    "axon_act = axon_ann_model.axon_ann(x_axon, y_axon, z_axon, lead_radius)"
   ]
  },
  {
   "cell_type": "markdown",
   "metadata": {},
   "source": [
    "#### 4. Create instance of visualization for plot"
   ]
  },
  {
   "cell_type": "code",
   "execution_count": 8,
   "metadata": {},
   "outputs": [],
   "source": [
    "visual_demo1 = vis.Visualization(lead_id, stimulation_amp, num_axons, x_axon, z_axon, phi_axon, axon_act)\n",
    "visual_demo1.visualize1(electrode_list)"
   ]
  }
 ],
 "metadata": {
  "kernelspec": {
   "display_name": "venv",
   "language": "python",
   "name": "python3"
  },
  "language_info": {
   "codemirror_mode": {
    "name": "ipython",
    "version": 3
   },
   "file_extension": ".py",
   "mimetype": "text/x-python",
   "name": "python",
   "nbconvert_exporter": "python",
   "pygments_lexer": "ipython3",
   "version": "3.11.2"
  }
 },
 "nbformat": 4,
 "nbformat_minor": 2
}
